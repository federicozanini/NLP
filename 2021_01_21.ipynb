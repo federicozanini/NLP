{
  "nbformat": 4,
  "nbformat_minor": 0,
  "metadata": {
    "colab": {
      "name": "2021_01_21.ipynb",
      "provenance": [],
      "collapsed_sections": []
    },
    "kernelspec": {
      "name": "python3",
      "display_name": "Python 3"
    }
  },
  "cells": [
    {
      "cell_type": "markdown",
      "metadata": {
        "id": "d9nq529YfQ_t"
      },
      "source": [
        "FIRST DISCUSSION LEAD US TO...\n",
        "\n",
        "### 1) EMBEDDING NN (first in time)\n",
        "\n",
        "- create embeddings for each sentence of \"context\": bert (?)\n",
        "- represent \"context\" by these embeddings\n",
        "\n",
        "OPEN QUESTION: embedding of the sentence by sentence or by words?\n",
        "______\n",
        "\n",
        "### 2) ANSWERING NN (second in time)\n",
        "\n",
        "a) FIRST APPROACH : OBSERVING GENERAL INFORMATION\n",
        "  - NN\n",
        "    - input : (whole \"context\", question)\n",
        "    - output : index of answer(readapted)? direct answer?\n",
        "\n",
        "b) SECOND APPROACH : FOCUSING ON SPECIFIC INFORMATION\n",
        "  - confront each sentence embedding to embedded question: cosine similarity?\n",
        "    - to find which sentence contains the answer to the question\n",
        "  - NN\n",
        "    - input : (sentence of \"context\", question)\n",
        "    - output : index of answer(readapted)? direct answer?\n",
        "\n",
        "\n",
        "\n",
        "______\n",
        "______\n",
        "\n",
        "NB : FINAL ANSWERS HAVE TO BE [index, text], THEREFORE WE NEED TO FIND THEM BOTH IN ANY CASE...\n"
      ]
    },
    {
      "cell_type": "code",
      "metadata": {
        "colab": {
          "base_uri": "https://localhost:8080/"
        },
        "id": "qbq4Xz18VRej",
        "outputId": "d98b4d5e-e775-48c5-ccdf-b7fc4a262db0"
      },
      "source": [
        "# find out \"answer_start\" meaning :\n",
        "\n",
        "t = \"\"\"Architecturally, the school has a Catholic character. Atop the Main Building's gold dome is a golden statue of the Virgin Mary. Immediately in front of the Main Building and facing it, is a copper statue of Christ with arms\tupraised with the legend \\\"Venite Ad Me Omnes\\\". Next to the Main Building is the Basilica of the\tSacred Heart. Immediately behind the basilica is the Grotto, a Marian place of prayer and reflection. It is a replica of the grotto at Lourdes, France where the Virgin Mary reputedly appeared to Saint Bernadette Soubirous in 1858.\"\"\"\n",
        "print(t[515:])"
      ],
      "execution_count": null,
      "outputs": [
        {
          "output_type": "stream",
          "text": [
            "Saint Bernadette Soubirous in 1858.\n"
          ],
          "name": "stdout"
        }
      ]
    },
    {
      "cell_type": "code",
      "metadata": {
        "id": "lBNeOkEUY2t4"
      },
      "source": [
        "ciao ciao ciao"
      ],
      "execution_count": null,
      "outputs": []
    }
  ]
}